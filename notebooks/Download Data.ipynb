{
 "cells": [
  {
   "cell_type": "markdown",
   "metadata": {},
   "source": [
    "## Download model files"
   ]
  },
  {
   "cell_type": "code",
   "execution_count": null,
   "metadata": {},
   "outputs": [],
   "source": [
    "import wget\n",
    "path_base = 'https://s3.amazonaws.com/models.huggingface.co/bert/xlnet-base-cased'\n",
    "\n",
    "filenames = ['spiece.model', 'pytorch_model.bin', 'config.json']\n",
    "\n",
    "for name in filenames:\n",
    "    wget.download(f'{path_base}-{name}', out=f'../models/xlnet-base-cased/{name}')"
   ]
  },
  {
   "cell_type": "markdown",
   "metadata": {},
   "source": [
    "## Download data"
   ]
  },
  {
   "cell_type": "code",
   "execution_count": null,
   "metadata": {},
   "outputs": [],
   "source": [
    "import gdown\n",
    "\n",
    "doc_id = '1kdFlCq9VWsQBhRBlijPis3a2Vhv220p5'\n",
    "\n",
    "url = f'https://drive.google.com/uc?id={doc_id}'\n",
    "output = '../data/classification_dataset.csv'\n",
    "gdown.download(url, output, quiet=False) "
   ]
  }
 ],
 "metadata": {
  "kernelspec": {
   "display_name": "Python 3",
   "language": "python",
   "name": "python3"
  },
  "language_info": {
   "codemirror_mode": {
    "name": "ipython",
    "version": 3
   },
   "file_extension": ".py",
   "mimetype": "text/x-python",
   "name": "python",
   "nbconvert_exporter": "python",
   "pygments_lexer": "ipython3",
   "version": "3.8.5"
  }
 },
 "nbformat": 4,
 "nbformat_minor": 4
}
