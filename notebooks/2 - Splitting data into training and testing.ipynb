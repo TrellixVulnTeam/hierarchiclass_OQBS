{
 "cells": [
  {
   "cell_type": "code",
   "execution_count": 2,
   "metadata": {},
   "outputs": [],
   "source": [
    "from sklearn.model_selection import train_test_split\n",
    "import pandas as pd"
   ]
  },
  {
   "cell_type": "markdown",
   "metadata": {},
   "source": [
    "### Doing the split between training and test data"
   ]
  },
  {
   "cell_type": "code",
   "execution_count": 3,
   "metadata": {},
   "outputs": [],
   "source": [
    "df = pd.read_csv('../data/classification_dataset.csv')\n",
    "train, test = train_test_split(df, test_size=0.2)"
   ]
  },
  {
   "cell_type": "markdown",
   "metadata": {},
   "source": [
    "Checking that all labels are represented in the test set"
   ]
  },
  {
   "cell_type": "code",
   "execution_count": 9,
   "metadata": {},
   "outputs": [
    {
     "data": {
      "text/plain": [
       "FootballMatch            2700\n",
       "Planet                   2700\n",
       "AcademicJournal          2700\n",
       "GolfPlayer               2700\n",
       "Manga                    2700\n",
       "                         ... \n",
       "Cycad                     204\n",
       "AnimangaCharacter         203\n",
       "BeachVolleyballPlayer     194\n",
       "CanadianFootballTeam      190\n",
       "BiologicalDatabase        187\n",
       "Name: l3, Length: 219, dtype: int64"
      ]
     },
     "execution_count": 9,
     "metadata": {},
     "output_type": "execute_result"
    }
   ],
   "source": [
    "df.l3.value_counts()"
   ]
  },
  {
   "cell_type": "code",
   "execution_count": 10,
   "metadata": {},
   "outputs": [
    {
     "data": {
      "text/plain": [
       "PoliticalParty            592\n",
       "AmericanFootballPlayer    587\n",
       "RecordLabel               577\n",
       "CollegeCoach              576\n",
       "School                    574\n",
       "                         ... \n",
       "CanadianFootballTeam       38\n",
       "Cycad                      38\n",
       "AnimangaCharacter          35\n",
       "BiologicalDatabase         33\n",
       "BaseballSeason             33\n",
       "Name: l3, Length: 219, dtype: int64"
      ]
     },
     "execution_count": 10,
     "metadata": {},
     "output_type": "execute_result"
    }
   ],
   "source": [
    "test.l3.value_counts()"
   ]
  },
  {
   "cell_type": "code",
   "execution_count": 4,
   "metadata": {},
   "outputs": [
    {
     "name": "stdout",
     "output_type": "stream",
     "text": [
      "all labels represented\n"
     ]
    }
   ],
   "source": [
    "if len(df.l3.unique()) == len(test.l3.unique()):\n",
    "    print('all labels represented')"
   ]
  },
  {
   "cell_type": "markdown",
   "metadata": {},
   "source": [
    "### Dumping datasets"
   ]
  },
  {
   "cell_type": "code",
   "execution_count": 11,
   "metadata": {},
   "outputs": [],
   "source": [
    "train.to_csv('../data/training_all.csv', index=False)\n",
    "test.to_csv('../data/test.csv', index=False)"
   ]
  }
 ],
 "metadata": {
  "kernelspec": {
   "display_name": "Python 3",
   "language": "python",
   "name": "python3"
  },
  "language_info": {
   "codemirror_mode": {
    "name": "ipython",
    "version": 3
   },
   "file_extension": ".py",
   "mimetype": "text/x-python",
   "name": "python",
   "nbconvert_exporter": "python",
   "pygments_lexer": "ipython3",
   "version": "3.8.5"
  }
 },
 "nbformat": 4,
 "nbformat_minor": 4
}
