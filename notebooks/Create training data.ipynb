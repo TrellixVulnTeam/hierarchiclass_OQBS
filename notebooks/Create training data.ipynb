{
 "cells": [
  {
   "cell_type": "markdown",
   "metadata": {},
   "source": [
    "# For low frequency labels"
   ]
  },
  {
   "cell_type": "code",
   "execution_count": 4,
   "metadata": {},
   "outputs": [],
   "source": [
    "import pandas as pd"
   ]
  },
  {
   "cell_type": "code",
   "execution_count": 7,
   "metadata": {},
   "outputs": [],
   "source": [
    "# AutomobileEngine,MusicGenre, SupremeCourtOfTheUnitedStatesCase, OTHER\n",
    "df = pd.read_csv('../data/classification_dataset.csv')\n",
    "df_low_f = df[df['l3'].isin(['AutomobileEngine','MusicGenre', 'SupremeCourtOfTheUnitedStatesCase'])]"
   ]
  },
  {
   "cell_type": "code",
   "execution_count": 9,
   "metadata": {},
   "outputs": [
    {
     "data": {
      "text/plain": [
       "3965"
      ]
     },
     "execution_count": 9,
     "metadata": {},
     "output_type": "execute_result"
    }
   ],
   "source": [
    "len(df_low_f)"
   ]
  },
  {
   "cell_type": "code",
   "execution_count": 23,
   "metadata": {},
   "outputs": [
    {
     "data": {
      "text/plain": [
       "SupremeCourtOfTheUnitedStatesCase    2497\n",
       "MusicGenre                           1115\n",
       "AutomobileEngine                      353\n",
       "Name: l3, dtype: int64"
      ]
     },
     "execution_count": 23,
     "metadata": {},
     "output_type": "execute_result"
    }
   ],
   "source": [
    "df_low_f.l3.value_counts()"
   ]
  },
  {
   "cell_type": "code",
   "execution_count": null,
   "metadata": {},
   "outputs": [],
   "source": [
    "df_low_f = df[df['l3'].isin(['AutomobileEngine','MusicGenre', 'SupremeCourtOfTheUnitedStatesCase'])]"
   ]
  },
  {
   "cell_type": "code",
   "execution_count": 22,
   "metadata": {},
   "outputs": [
    {
     "data": {
      "text/plain": [
       "216"
      ]
     },
     "execution_count": 22,
     "metadata": {},
     "output_type": "execute_result"
    }
   ],
   "source": [
    "other_seed = df[~df['l3'].isin(['AutomobileEngine','MusicGenre', 'SupremeCourtOfTheUnitedStatesCase'])]\n",
    "len(other_seed.l3.unique())"
   ]
  },
  {
   "cell_type": "code",
   "execution_count": 24,
   "metadata": {},
   "outputs": [
    {
     "data": {
      "text/plain": [
       "46.2962962962963"
      ]
     },
     "execution_count": 24,
     "metadata": {},
     "output_type": "execute_result"
    }
   ],
   "source": [
    "10000/len(other_seed.l3.unique())"
   ]
  },
  {
   "cell_type": "code",
   "execution_count": null,
   "metadata": {},
   "outputs": [],
   "source": [
    "# I'll get 50 from each label in l3 for the remaining"
   ]
  },
  {
   "cell_type": "code",
   "execution_count": 35,
   "metadata": {},
   "outputs": [
    {
     "data": {
      "text/plain": [
       "10800"
      ]
     },
     "execution_count": 35,
     "metadata": {},
     "output_type": "execute_result"
    }
   ],
   "source": [
    "all = list()\n",
    "\n",
    "for label in other_seed.l3.unique():\n",
    "    all.append(df[df['l3'] == label].sample(50))\n",
    "\n",
    "test = pd.concat(all)\n",
    "len(test)"
   ]
  },
  {
   "cell_type": "code",
   "execution_count": 37,
   "metadata": {},
   "outputs": [],
   "source": [
    "test['l3'] = 'Other'"
   ]
  },
  {
   "cell_type": "code",
   "execution_count": 39,
   "metadata": {},
   "outputs": [],
   "source": [
    "final_df = pd.concat([df_low_f, test])"
   ]
  },
  {
   "cell_type": "code",
   "execution_count": 40,
   "metadata": {},
   "outputs": [
    {
     "data": {
      "text/html": [
       "<div>\n",
       "<style scoped>\n",
       "    .dataframe tbody tr th:only-of-type {\n",
       "        vertical-align: middle;\n",
       "    }\n",
       "\n",
       "    .dataframe tbody tr th {\n",
       "        vertical-align: top;\n",
       "    }\n",
       "\n",
       "    .dataframe thead th {\n",
       "        text-align: right;\n",
       "    }\n",
       "</style>\n",
       "<table border=\"1\" class=\"dataframe\">\n",
       "  <thead>\n",
       "    <tr style=\"text-align: right;\">\n",
       "      <th></th>\n",
       "      <th>text</th>\n",
       "      <th>l1</th>\n",
       "      <th>l2</th>\n",
       "      <th>l3</th>\n",
       "    </tr>\n",
       "  </thead>\n",
       "  <tbody>\n",
       "    <tr>\n",
       "      <th>9</th>\n",
       "      <td>Shanto is a form of Guyanese music, related to...</td>\n",
       "      <td>TopicalConcept</td>\n",
       "      <td>Genre</td>\n",
       "      <td>MusicGenre</td>\n",
       "    </tr>\n",
       "    <tr>\n",
       "      <th>15</th>\n",
       "      <td>Jacking, or the jack, is a freestyle dance mov...</td>\n",
       "      <td>TopicalConcept</td>\n",
       "      <td>Genre</td>\n",
       "      <td>MusicGenre</td>\n",
       "    </tr>\n",
       "    <tr>\n",
       "      <th>310</th>\n",
       "      <td>Nix v. Whiteside, 475 U.S. 157 (1986) was a Un...</td>\n",
       "      <td>UnitOfWork</td>\n",
       "      <td>LegalCase</td>\n",
       "      <td>SupremeCourtOfTheUnitedStatesCase</td>\n",
       "    </tr>\n",
       "    <tr>\n",
       "      <th>335</th>\n",
       "      <td>Equal Employment Opportunity Commission v. Abe...</td>\n",
       "      <td>UnitOfWork</td>\n",
       "      <td>LegalCase</td>\n",
       "      <td>SupremeCourtOfTheUnitedStatesCase</td>\n",
       "    </tr>\n",
       "    <tr>\n",
       "      <th>535</th>\n",
       "      <td>United States v. Feola, 420 U.S. 671 (1975) is...</td>\n",
       "      <td>UnitOfWork</td>\n",
       "      <td>LegalCase</td>\n",
       "      <td>SupremeCourtOfTheUnitedStatesCase</td>\n",
       "    </tr>\n",
       "    <tr>\n",
       "      <th>...</th>\n",
       "      <td>...</td>\n",
       "      <td>...</td>\n",
       "      <td>...</td>\n",
       "      <td>...</td>\n",
       "    </tr>\n",
       "    <tr>\n",
       "      <th>141849</th>\n",
       "      <td>Broomieknowe Golf Club is a parkland golf club...</td>\n",
       "      <td>Place</td>\n",
       "      <td>SportFacility</td>\n",
       "      <td>Other</td>\n",
       "    </tr>\n",
       "    <tr>\n",
       "      <th>295362</th>\n",
       "      <td>The Links at Crowbush Cove is a champion golf ...</td>\n",
       "      <td>Place</td>\n",
       "      <td>SportFacility</td>\n",
       "      <td>Other</td>\n",
       "    </tr>\n",
       "    <tr>\n",
       "      <th>248838</th>\n",
       "      <td>Harmon Seaside Links is a public golf course l...</td>\n",
       "      <td>Place</td>\n",
       "      <td>SportFacility</td>\n",
       "      <td>Other</td>\n",
       "    </tr>\n",
       "    <tr>\n",
       "      <th>10684</th>\n",
       "      <td>Hermitage Country Club is a country club locat...</td>\n",
       "      <td>Place</td>\n",
       "      <td>SportFacility</td>\n",
       "      <td>Other</td>\n",
       "    </tr>\n",
       "    <tr>\n",
       "      <th>180107</th>\n",
       "      <td>The Pound Ridge Golf Course is an 18-hole faci...</td>\n",
       "      <td>Place</td>\n",
       "      <td>SportFacility</td>\n",
       "      <td>Other</td>\n",
       "    </tr>\n",
       "  </tbody>\n",
       "</table>\n",
       "<p>14765 rows × 4 columns</p>\n",
       "</div>"
      ],
      "text/plain": [
       "                                                     text              l1  \\\n",
       "9       Shanto is a form of Guyanese music, related to...  TopicalConcept   \n",
       "15      Jacking, or the jack, is a freestyle dance mov...  TopicalConcept   \n",
       "310     Nix v. Whiteside, 475 U.S. 157 (1986) was a Un...      UnitOfWork   \n",
       "335     Equal Employment Opportunity Commission v. Abe...      UnitOfWork   \n",
       "535     United States v. Feola, 420 U.S. 671 (1975) is...      UnitOfWork   \n",
       "...                                                   ...             ...   \n",
       "141849  Broomieknowe Golf Club is a parkland golf club...           Place   \n",
       "295362  The Links at Crowbush Cove is a champion golf ...           Place   \n",
       "248838  Harmon Seaside Links is a public golf course l...           Place   \n",
       "10684   Hermitage Country Club is a country club locat...           Place   \n",
       "180107  The Pound Ridge Golf Course is an 18-hole faci...           Place   \n",
       "\n",
       "                   l2                                 l3  \n",
       "9               Genre                         MusicGenre  \n",
       "15              Genre                         MusicGenre  \n",
       "310         LegalCase  SupremeCourtOfTheUnitedStatesCase  \n",
       "335         LegalCase  SupremeCourtOfTheUnitedStatesCase  \n",
       "535         LegalCase  SupremeCourtOfTheUnitedStatesCase  \n",
       "...               ...                                ...  \n",
       "141849  SportFacility                              Other  \n",
       "295362  SportFacility                              Other  \n",
       "248838  SportFacility                              Other  \n",
       "10684   SportFacility                              Other  \n",
       "180107  SportFacility                              Other  \n",
       "\n",
       "[14765 rows x 4 columns]"
      ]
     },
     "execution_count": 40,
     "metadata": {},
     "output_type": "execute_result"
    }
   ],
   "source": [
    "final_df"
   ]
  },
  {
   "cell_type": "code",
   "execution_count": 41,
   "metadata": {},
   "outputs": [],
   "source": [
    "final_df.to_csv('../data/low_f_dataset.csv')"
   ]
  },
  {
   "cell_type": "code",
   "execution_count": null,
   "metadata": {},
   "outputs": [],
   "source": []
  }
 ],
 "metadata": {
  "kernelspec": {
   "display_name": "Python 3",
   "language": "python",
   "name": "python3"
  },
  "language_info": {
   "codemirror_mode": {
    "name": "ipython",
    "version": 3
   },
   "file_extension": ".py",
   "mimetype": "text/x-python",
   "name": "python",
   "nbconvert_exporter": "python",
   "pygments_lexer": "ipython3",
   "version": "3.8.5"
  }
 },
 "nbformat": 4,
 "nbformat_minor": 4
}
