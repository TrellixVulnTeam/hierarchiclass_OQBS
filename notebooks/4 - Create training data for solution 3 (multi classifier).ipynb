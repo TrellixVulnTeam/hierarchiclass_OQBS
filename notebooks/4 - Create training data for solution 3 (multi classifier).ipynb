{
 "cells": [
  {
   "cell_type": "code",
   "execution_count": 3,
   "metadata": {},
   "outputs": [],
   "source": [
    "import pandas as pd"
   ]
  },
  {
   "cell_type": "markdown",
   "metadata": {},
   "source": [
    "# Building Training Data"
   ]
  },
  {
   "cell_type": "code",
   "execution_count": 19,
   "metadata": {
    "collapsed": true
   },
   "outputs": [
    {
     "data": {
      "text/html": [
       "<div>\n",
       "<style scoped>\n",
       "    .dataframe tbody tr th:only-of-type {\n",
       "        vertical-align: middle;\n",
       "    }\n",
       "\n",
       "    .dataframe tbody tr th {\n",
       "        vertical-align: top;\n",
       "    }\n",
       "\n",
       "    .dataframe thead th {\n",
       "        text-align: right;\n",
       "    }\n",
       "</style>\n",
       "<table border=\"1\" class=\"dataframe\">\n",
       "  <thead>\n",
       "    <tr style=\"text-align: right;\">\n",
       "      <th></th>\n",
       "      <th>text</th>\n",
       "      <th>l1</th>\n",
       "      <th>l2</th>\n",
       "      <th>l3</th>\n",
       "    </tr>\n",
       "  </thead>\n",
       "  <tbody>\n",
       "    <tr>\n",
       "      <th>0</th>\n",
       "      <td>Yakuman (役満) is a 1989 mahjong video game deve...</td>\n",
       "      <td>Work</td>\n",
       "      <td>Software</td>\n",
       "      <td>VideoGame</td>\n",
       "    </tr>\n",
       "    <tr>\n",
       "      <th>1</th>\n",
       "      <td>Reas Pass, elevation 6,930 feet (2,110 m), is ...</td>\n",
       "      <td>Place</td>\n",
       "      <td>NaturalPlace</td>\n",
       "      <td>MountainPass</td>\n",
       "    </tr>\n",
       "    <tr>\n",
       "      <th>2</th>\n",
       "      <td>François Marcela-Froideval (born 10 December 1...</td>\n",
       "      <td>Agent</td>\n",
       "      <td>Artist</td>\n",
       "      <td>ComicsCreator</td>\n",
       "    </tr>\n",
       "    <tr>\n",
       "      <th>3</th>\n",
       "      <td>Cinzia Frosio is an Italian former competitive...</td>\n",
       "      <td>Agent</td>\n",
       "      <td>WinterSportPlayer</td>\n",
       "      <td>FigureSkater</td>\n",
       "    </tr>\n",
       "    <tr>\n",
       "      <th>4</th>\n",
       "      <td>Lac de Pierre-Percée is a lake in Pierre-Percé...</td>\n",
       "      <td>Place</td>\n",
       "      <td>BodyOfWater</td>\n",
       "      <td>Lake</td>\n",
       "    </tr>\n",
       "    <tr>\n",
       "      <th>...</th>\n",
       "      <td>...</td>\n",
       "      <td>...</td>\n",
       "      <td>...</td>\n",
       "      <td>...</td>\n",
       "    </tr>\n",
       "    <tr>\n",
       "      <th>274219</th>\n",
       "      <td>Jalan Tanjung Gelang, Federal Route 435, is a ...</td>\n",
       "      <td>Place</td>\n",
       "      <td>RouteOfTransportation</td>\n",
       "      <td>Road</td>\n",
       "    </tr>\n",
       "    <tr>\n",
       "      <th>274220</th>\n",
       "      <td>Reggina Calcio extended its stay in Serie A by...</td>\n",
       "      <td>SportsSeason</td>\n",
       "      <td>SportsTeamSeason</td>\n",
       "      <td>SoccerClubSeason</td>\n",
       "    </tr>\n",
       "    <tr>\n",
       "      <th>274221</th>\n",
       "      <td>Ger Lynch (born 10 December 1958) is an Irish ...</td>\n",
       "      <td>Agent</td>\n",
       "      <td>Athlete</td>\n",
       "      <td>GaelicGamesPlayer</td>\n",
       "    </tr>\n",
       "    <tr>\n",
       "      <th>274222</th>\n",
       "      <td>Walter Edward Fauntroy (born February 6, 1933)...</td>\n",
       "      <td>Agent</td>\n",
       "      <td>Politician</td>\n",
       "      <td>Congressman</td>\n",
       "    </tr>\n",
       "    <tr>\n",
       "      <th>274223</th>\n",
       "      <td>The 2009 New England Patriots season was the 4...</td>\n",
       "      <td>SportsSeason</td>\n",
       "      <td>FootballLeagueSeason</td>\n",
       "      <td>NationalFootballLeagueSeason</td>\n",
       "    </tr>\n",
       "  </tbody>\n",
       "</table>\n",
       "<p>274224 rows × 4 columns</p>\n",
       "</div>"
      ],
      "text/plain": [
       "                                                     text            l1  \\\n",
       "0       Yakuman (役満) is a 1989 mahjong video game deve...          Work   \n",
       "1       Reas Pass, elevation 6,930 feet (2,110 m), is ...         Place   \n",
       "2       François Marcela-Froideval (born 10 December 1...         Agent   \n",
       "3       Cinzia Frosio is an Italian former competitive...         Agent   \n",
       "4       Lac de Pierre-Percée is a lake in Pierre-Percé...         Place   \n",
       "...                                                   ...           ...   \n",
       "274219  Jalan Tanjung Gelang, Federal Route 435, is a ...         Place   \n",
       "274220  Reggina Calcio extended its stay in Serie A by...  SportsSeason   \n",
       "274221  Ger Lynch (born 10 December 1958) is an Irish ...         Agent   \n",
       "274222  Walter Edward Fauntroy (born February 6, 1933)...         Agent   \n",
       "274223  The 2009 New England Patriots season was the 4...  SportsSeason   \n",
       "\n",
       "                           l2                            l3  \n",
       "0                    Software                     VideoGame  \n",
       "1                NaturalPlace                  MountainPass  \n",
       "2                      Artist                 ComicsCreator  \n",
       "3           WinterSportPlayer                  FigureSkater  \n",
       "4                 BodyOfWater                          Lake  \n",
       "...                       ...                           ...  \n",
       "274219  RouteOfTransportation                          Road  \n",
       "274220       SportsTeamSeason              SoccerClubSeason  \n",
       "274221                Athlete             GaelicGamesPlayer  \n",
       "274222             Politician                   Congressman  \n",
       "274223   FootballLeagueSeason  NationalFootballLeagueSeason  \n",
       "\n",
       "[274224 rows x 4 columns]"
      ]
     },
     "execution_count": 19,
     "metadata": {},
     "output_type": "execute_result"
    }
   ],
   "source": [
    "df = pd.read_csv('../data/training_all.csv')\n",
    "df"
   ]
  },
  {
   "cell_type": "markdown",
   "metadata": {},
   "source": [
    "## Classifier 1"
   ]
  },
  {
   "cell_type": "markdown",
   "metadata": {},
   "source": [
    "Classifier 1 has labels:\n",
    "- Agent\n",
    "- Place\n",
    "- Other"
   ]
  },
  {
   "cell_type": "code",
   "execution_count": 15,
   "metadata": {},
   "outputs": [
    {
     "data": {
      "text/html": [
       "<div>\n",
       "<style scoped>\n",
       "    .dataframe tbody tr th:only-of-type {\n",
       "        vertical-align: middle;\n",
       "    }\n",
       "\n",
       "    .dataframe tbody tr th {\n",
       "        vertical-align: top;\n",
       "    }\n",
       "\n",
       "    .dataframe thead th {\n",
       "        text-align: right;\n",
       "    }\n",
       "</style>\n",
       "<table border=\"1\" class=\"dataframe\">\n",
       "  <thead>\n",
       "    <tr style=\"text-align: right;\">\n",
       "      <th></th>\n",
       "      <th>text</th>\n",
       "      <th>labels</th>\n",
       "    </tr>\n",
       "  </thead>\n",
       "  <tbody>\n",
       "    <tr>\n",
       "      <th>0</th>\n",
       "      <td>Yakuman (役満) is a 1989 mahjong video game deve...</td>\n",
       "      <td>Work</td>\n",
       "    </tr>\n",
       "    <tr>\n",
       "      <th>1</th>\n",
       "      <td>Reas Pass, elevation 6,930 feet (2,110 m), is ...</td>\n",
       "      <td>Place</td>\n",
       "    </tr>\n",
       "    <tr>\n",
       "      <th>2</th>\n",
       "      <td>François Marcela-Froideval (born 10 December 1...</td>\n",
       "      <td>Agent</td>\n",
       "    </tr>\n",
       "    <tr>\n",
       "      <th>3</th>\n",
       "      <td>Cinzia Frosio is an Italian former competitive...</td>\n",
       "      <td>Agent</td>\n",
       "    </tr>\n",
       "    <tr>\n",
       "      <th>4</th>\n",
       "      <td>Lac de Pierre-Percée is a lake in Pierre-Percé...</td>\n",
       "      <td>Place</td>\n",
       "    </tr>\n",
       "    <tr>\n",
       "      <th>...</th>\n",
       "      <td>...</td>\n",
       "      <td>...</td>\n",
       "    </tr>\n",
       "    <tr>\n",
       "      <th>274219</th>\n",
       "      <td>Jalan Tanjung Gelang, Federal Route 435, is a ...</td>\n",
       "      <td>Place</td>\n",
       "    </tr>\n",
       "    <tr>\n",
       "      <th>274220</th>\n",
       "      <td>Reggina Calcio extended its stay in Serie A by...</td>\n",
       "      <td>SportsSeason</td>\n",
       "    </tr>\n",
       "    <tr>\n",
       "      <th>274221</th>\n",
       "      <td>Ger Lynch (born 10 December 1958) is an Irish ...</td>\n",
       "      <td>Agent</td>\n",
       "    </tr>\n",
       "    <tr>\n",
       "      <th>274222</th>\n",
       "      <td>Walter Edward Fauntroy (born February 6, 1933)...</td>\n",
       "      <td>Agent</td>\n",
       "    </tr>\n",
       "    <tr>\n",
       "      <th>274223</th>\n",
       "      <td>The 2009 New England Patriots season was the 4...</td>\n",
       "      <td>SportsSeason</td>\n",
       "    </tr>\n",
       "  </tbody>\n",
       "</table>\n",
       "<p>274224 rows × 2 columns</p>\n",
       "</div>"
      ],
      "text/plain": [
       "                                                     text        labels\n",
       "0       Yakuman (役満) is a 1989 mahjong video game deve...          Work\n",
       "1       Reas Pass, elevation 6,930 feet (2,110 m), is ...         Place\n",
       "2       François Marcela-Froideval (born 10 December 1...         Agent\n",
       "3       Cinzia Frosio is an Italian former competitive...         Agent\n",
       "4       Lac de Pierre-Percée is a lake in Pierre-Percé...         Place\n",
       "...                                                   ...           ...\n",
       "274219  Jalan Tanjung Gelang, Federal Route 435, is a ...         Place\n",
       "274220  Reggina Calcio extended its stay in Serie A by...  SportsSeason\n",
       "274221  Ger Lynch (born 10 December 1958) is an Irish ...         Agent\n",
       "274222  Walter Edward Fauntroy (born February 6, 1933)...         Agent\n",
       "274223  The 2009 New England Patriots season was the 4...  SportsSeason\n",
       "\n",
       "[274224 rows x 2 columns]"
      ]
     },
     "execution_count": 15,
     "metadata": {},
     "output_type": "execute_result"
    }
   ],
   "source": [
    "tr_c1 = df.loc[:,['text', 'l1']].rename(columns={'l1':'labels'})\n",
    "tr_c1"
   ]
  },
  {
   "cell_type": "code",
   "execution_count": 16,
   "metadata": {},
   "outputs": [],
   "source": [
    "tr_c1.loc[~tr_c1['labels'].isin(['Agent', 'Place']), 'labels'] = \"Other\""
   ]
  },
  {
   "cell_type": "code",
   "execution_count": 31,
   "metadata": {},
   "outputs": [
    {
     "data": {
      "text/plain": [
       "Agent    141620\n",
       "Other     80488\n",
       "Place     52116\n",
       "Name: labels, dtype: int64"
      ]
     },
     "execution_count": 31,
     "metadata": {},
     "output_type": "execute_result"
    }
   ],
   "source": [
    "tr_c1.labels.value_counts()"
   ]
  },
  {
   "cell_type": "code",
   "execution_count": 20,
   "metadata": {},
   "outputs": [],
   "source": [
    "tr_c1.to_csv('../data/training_c1.csv', index=False)"
   ]
  },
  {
   "cell_type": "markdown",
   "metadata": {},
   "source": [
    "## Classifier 2"
   ]
  },
  {
   "cell_type": "markdown",
   "metadata": {},
   "source": [
    "Classifier 2 has labels:\n",
    "\n",
    "- Athlete\n",
    "- Person\n",
    "- Other"
   ]
  },
  {
   "cell_type": "code",
   "execution_count": 23,
   "metadata": {
    "collapsed": true
   },
   "outputs": [
    {
     "data": {
      "text/html": [
       "<div>\n",
       "<style scoped>\n",
       "    .dataframe tbody tr th:only-of-type {\n",
       "        vertical-align: middle;\n",
       "    }\n",
       "\n",
       "    .dataframe tbody tr th {\n",
       "        vertical-align: top;\n",
       "    }\n",
       "\n",
       "    .dataframe thead th {\n",
       "        text-align: right;\n",
       "    }\n",
       "</style>\n",
       "<table border=\"1\" class=\"dataframe\">\n",
       "  <thead>\n",
       "    <tr style=\"text-align: right;\">\n",
       "      <th></th>\n",
       "      <th>text</th>\n",
       "      <th>labels</th>\n",
       "    </tr>\n",
       "  </thead>\n",
       "  <tbody>\n",
       "    <tr>\n",
       "      <th>2</th>\n",
       "      <td>François Marcela-Froideval (born 10 December 1...</td>\n",
       "      <td>Artist</td>\n",
       "    </tr>\n",
       "    <tr>\n",
       "      <th>3</th>\n",
       "      <td>Cinzia Frosio is an Italian former competitive...</td>\n",
       "      <td>WinterSportPlayer</td>\n",
       "    </tr>\n",
       "    <tr>\n",
       "      <th>7</th>\n",
       "      <td>Ann Bowditch is a former road cyclist from Gue...</td>\n",
       "      <td>Athlete</td>\n",
       "    </tr>\n",
       "    <tr>\n",
       "      <th>9</th>\n",
       "      <td>Claxtonola was a jazz record label founded in ...</td>\n",
       "      <td>Company</td>\n",
       "    </tr>\n",
       "    <tr>\n",
       "      <th>10</th>\n",
       "      <td>Donald Alan (Don) Brumfield (born May 24, 1938...</td>\n",
       "      <td>Athlete</td>\n",
       "    </tr>\n",
       "    <tr>\n",
       "      <th>...</th>\n",
       "      <td>...</td>\n",
       "      <td>...</td>\n",
       "    </tr>\n",
       "    <tr>\n",
       "      <th>274213</th>\n",
       "      <td>Justinus Darmojuwono (2 November 1914  – 3 Feb...</td>\n",
       "      <td>Cleric</td>\n",
       "    </tr>\n",
       "    <tr>\n",
       "      <th>274215</th>\n",
       "      <td>Annie Lavery is a fictional character on ABC's...</td>\n",
       "      <td>FictionalCharacter</td>\n",
       "    </tr>\n",
       "    <tr>\n",
       "      <th>274218</th>\n",
       "      <td>Cheverus High School is a private, Jesuit, col...</td>\n",
       "      <td>EducationalInstitution</td>\n",
       "    </tr>\n",
       "    <tr>\n",
       "      <th>274221</th>\n",
       "      <td>Ger Lynch (born 10 December 1958) is an Irish ...</td>\n",
       "      <td>Athlete</td>\n",
       "    </tr>\n",
       "    <tr>\n",
       "      <th>274222</th>\n",
       "      <td>Walter Edward Fauntroy (born February 6, 1933)...</td>\n",
       "      <td>Politician</td>\n",
       "    </tr>\n",
       "  </tbody>\n",
       "</table>\n",
       "<p>141620 rows × 2 columns</p>\n",
       "</div>"
      ],
      "text/plain": [
       "                                                     text  \\\n",
       "2       François Marcela-Froideval (born 10 December 1...   \n",
       "3       Cinzia Frosio is an Italian former competitive...   \n",
       "7       Ann Bowditch is a former road cyclist from Gue...   \n",
       "9       Claxtonola was a jazz record label founded in ...   \n",
       "10      Donald Alan (Don) Brumfield (born May 24, 1938...   \n",
       "...                                                   ...   \n",
       "274213  Justinus Darmojuwono (2 November 1914  – 3 Feb...   \n",
       "274215  Annie Lavery is a fictional character on ABC's...   \n",
       "274218  Cheverus High School is a private, Jesuit, col...   \n",
       "274221  Ger Lynch (born 10 December 1958) is an Irish ...   \n",
       "274222  Walter Edward Fauntroy (born February 6, 1933)...   \n",
       "\n",
       "                        labels  \n",
       "2                       Artist  \n",
       "3            WinterSportPlayer  \n",
       "7                      Athlete  \n",
       "9                      Company  \n",
       "10                     Athlete  \n",
       "...                        ...  \n",
       "274213                  Cleric  \n",
       "274215      FictionalCharacter  \n",
       "274218  EducationalInstitution  \n",
       "274221                 Athlete  \n",
       "274222              Politician  \n",
       "\n",
       "[141620 rows x 2 columns]"
      ]
     },
     "execution_count": 23,
     "metadata": {},
     "output_type": "execute_result"
    }
   ],
   "source": [
    "tr_c2 = df[df['l1'] == 'Agent'].loc[:,['text', 'l2']].rename(columns={'l2':'labels'})\n",
    "tr_c2"
   ]
  },
  {
   "cell_type": "code",
   "execution_count": 24,
   "metadata": {},
   "outputs": [],
   "source": [
    "tr_c2.loc[~tr_c2['labels'].isin(['Athlete', 'Person']), 'labels'] = \"Other\""
   ]
  },
  {
   "cell_type": "code",
   "execution_count": 30,
   "metadata": {},
   "outputs": [
    {
     "data": {
      "text/plain": [
       "Other      83979\n",
       "Athlete    35374\n",
       "Person     22267\n",
       "Name: labels, dtype: int64"
      ]
     },
     "execution_count": 30,
     "metadata": {},
     "output_type": "execute_result"
    }
   ],
   "source": [
    "tr_c2.labels.value_counts()"
   ]
  },
  {
   "cell_type": "code",
   "execution_count": 27,
   "metadata": {},
   "outputs": [],
   "source": [
    "tr_c2.to_csv('../data/training_c2.csv', index=False)"
   ]
  },
  {
   "cell_type": "markdown",
   "metadata": {},
   "source": [
    "## Classifier 3"
   ]
  },
  {
   "cell_type": "markdown",
   "metadata": {},
   "source": [
    "Classifier 3 has labels:\n",
    "\n",
    "- GolfPlayer\n",
    "- Gymnast\n",
    "- Cyclist\n",
    "- ..."
   ]
  },
  {
   "cell_type": "code",
   "execution_count": 33,
   "metadata": {
    "collapsed": true
   },
   "outputs": [
    {
     "data": {
      "text/plain": [
       "Cyclist                          2210\n",
       "MartialArtist                    2180\n",
       "BasketballPlayer                 2178\n",
       "AustralianRulesFootballPlayer    2167\n",
       "TennisPlayer                     2161\n",
       "GaelicGamesPlayer                2161\n",
       "Gymnast                          2157\n",
       "BaseballPlayer                   2150\n",
       "Swimmer                          2149\n",
       "GolfPlayer                       2133\n",
       "SoccerPlayer                     2131\n",
       "Cricketer                        2131\n",
       "RugbyPlayer                      2125\n",
       "HandballPlayer                   1619\n",
       "BadmintonPlayer                  1056\n",
       "ChessPlayer                      1016\n",
       "PokerPlayer                       485\n",
       "HorseRider                        471\n",
       "DartsPlayer                       417\n",
       "Jockey                            383\n",
       "TableTennisPlayer                 372\n",
       "Canoeist                          321\n",
       "LacrossePlayer                    308\n",
       "SquashPlayer                      292\n",
       "Rower                             206\n",
       "Bodybuilder                       203\n",
       "NetballPlayer                     192\n",
       "Name: labels, dtype: int64"
      ]
     },
     "execution_count": 33,
     "metadata": {},
     "output_type": "execute_result"
    }
   ],
   "source": [
    "tr_c3 = df[df['l2'] == 'Athlete'].loc[:,['text', 'l3']].rename(columns={'l3':'labels'})\n",
    "tr_c3.labels.value_counts()"
   ]
  },
  {
   "cell_type": "code",
   "execution_count": 34,
   "metadata": {},
   "outputs": [],
   "source": [
    "tr_c3.to_csv('../data/training_c3.csv', index=False)"
   ]
  },
  {
   "cell_type": "markdown",
   "metadata": {},
   "source": [
    "## Classifier 4"
   ]
  },
  {
   "cell_type": "markdown",
   "metadata": {},
   "source": [
    "Classifier 4 has labels:\n",
    "\n",
    "- Noble\n",
    "- Judge\n",
    "- Architect\n",
    "- ..."
   ]
  },
  {
   "cell_type": "code",
   "execution_count": 35,
   "metadata": {
    "collapsed": true
   },
   "outputs": [
    {
     "data": {
      "text/plain": [
       "Noble              2146\n",
       "OfficeHolder       2125\n",
       "MilitaryPerson     2106\n",
       "Judge              2076\n",
       "Architect          2073\n",
       "Monarch            1839\n",
       "BeautyQueen        1728\n",
       "Philosopher        1358\n",
       "Model              1238\n",
       "Journalist         1176\n",
       "Economist           847\n",
       "Religious           725\n",
       "BusinessPerson      574\n",
       "Engineer            557\n",
       "Ambassador          465\n",
       "Astronaut           455\n",
       "Chef                427\n",
       "PlayboyPlaymate     185\n",
       "HorseTrainer        167\n",
       "Name: labels, dtype: int64"
      ]
     },
     "execution_count": 35,
     "metadata": {},
     "output_type": "execute_result"
    }
   ],
   "source": [
    "tr_c4 = df[df['l2'] == 'Person'].loc[:,['text', 'l3']].rename(columns={'l3':'labels'})\n",
    "tr_c4.labels.value_counts()"
   ]
  },
  {
   "cell_type": "code",
   "execution_count": 37,
   "metadata": {},
   "outputs": [],
   "source": [
    "tr_c4.to_csv('../data/training_c4.csv', index=False)"
   ]
  },
  {
   "cell_type": "markdown",
   "metadata": {},
   "source": [
    "## Classifier 5"
   ]
  },
  {
   "cell_type": "markdown",
   "metadata": {},
   "source": [
    "Classifier 5 has labels:\n",
    "\n",
    "- FigureSkater\n",
    "- Airline\n",
    "- ..."
   ]
  },
  {
   "cell_type": "code",
   "execution_count": 49,
   "metadata": {},
   "outputs": [],
   "source": [
    "tr_c5 = df[df['l1']=='Agent']\n",
    "tr_c5 = tr_c5[~tr_c5.l2.isin(['Athlete', 'Person'])].loc[:,['text', 'l3']].rename(columns={'l3':'labels'})"
   ]
  },
  {
   "cell_type": "code",
   "execution_count": 52,
   "metadata": {
    "collapsed": true
   },
   "outputs": [
    {
     "data": {
      "text/plain": [
       "Airline                  2195\n",
       "MemberOfParliament       2190\n",
       "Congressman              2176\n",
       "TelevisionStation        2175\n",
       "University               2166\n",
       "                         ... \n",
       "ClassicalMusicArtist      220\n",
       "Brewery                   203\n",
       "AnimangaCharacter         168\n",
       "BeachVolleyballPlayer     153\n",
       "CanadianFootballTeam      152\n",
       "Name: labels, Length: 77, dtype: int64"
      ]
     },
     "execution_count": 52,
     "metadata": {},
     "output_type": "execute_result"
    }
   ],
   "source": [
    "tr_c5.labels.value_counts()"
   ]
  },
  {
   "cell_type": "code",
   "execution_count": 55,
   "metadata": {},
   "outputs": [],
   "source": [
    "tr_c5.to_csv('../data/training_c5.csv', index=False)"
   ]
  },
  {
   "cell_type": "markdown",
   "metadata": {},
   "source": [
    "## Classifier 6"
   ]
  },
  {
   "cell_type": "markdown",
   "metadata": {},
   "source": [
    "Classifier 6 has labels:\n",
    "\n",
    "- Planet\n",
    "- Castle\n",
    "- ..."
   ]
  },
  {
   "cell_type": "code",
   "execution_count": 56,
   "metadata": {},
   "outputs": [],
   "source": [
    "tr_c6 = df[df['l1']=='Place']\n",
    "tr_c6 = tr_c6.loc[:,['text', 'l3']].rename(columns={'l3':'labels'})"
   ]
  },
  {
   "cell_type": "code",
   "execution_count": 58,
   "metadata": {
    "collapsed": true
   },
   "outputs": [
    {
     "data": {
      "text/plain": [
       "Road                   2184\n",
       "Stadium                2178\n",
       "Mountain               2177\n",
       "Village                2174\n",
       "River                  2172\n",
       "HistoricBuilding       2165\n",
       "Airport                2162\n",
       "Town                   2161\n",
       "Dam                    2161\n",
       "Bridge                 2160\n",
       "Museum                 2159\n",
       "RailwayLine            2149\n",
       "Lake                   2143\n",
       "Diocese                2143\n",
       "Planet                 2138\n",
       "Hospital               2125\n",
       "ShoppingMall           1904\n",
       "MountainRange          1850\n",
       "ArtificialSatellite    1817\n",
       "RailwayStation         1665\n",
       "Lighthouse             1435\n",
       "Castle                 1048\n",
       "Prison                  996\n",
       "Hotel                   947\n",
       "Restaurant              824\n",
       "MountainPass            750\n",
       "Galaxy                  651\n",
       "Theatre                 569\n",
       "Volcano                 554\n",
       "RollerCoaster           533\n",
       "Glacier                 506\n",
       "Cave                    371\n",
       "Canal                   305\n",
       "GolfCourse              259\n",
       "RoadTunnel              211\n",
       "CricketGround           188\n",
       "Racecourse              182\n",
       "Name: labels, dtype: int64"
      ]
     },
     "execution_count": 58,
     "metadata": {},
     "output_type": "execute_result"
    }
   ],
   "source": [
    "tr_c6.labels.value_counts()"
   ]
  },
  {
   "cell_type": "code",
   "execution_count": 59,
   "metadata": {},
   "outputs": [],
   "source": [
    "tr_c6.to_csv('../data/training_c6.csv', index=False)"
   ]
  },
  {
   "cell_type": "markdown",
   "metadata": {},
   "source": [
    "## Classifier 7"
   ]
  },
  {
   "cell_type": "markdown",
   "metadata": {},
   "source": [
    "Classifier 7 has all remaining labels:\n",
    "- Newspaper\n",
    "- OlympicEvent\n",
    "- ..."
   ]
  },
  {
   "cell_type": "code",
   "execution_count": 62,
   "metadata": {
    "collapsed": true
   },
   "outputs": [
    {
     "data": {
      "text/plain": [
       "Newspaper                            2187\n",
       "OlympicEvent                         2179\n",
       "Mollusca                             2179\n",
       "RaceHorse                            2179\n",
       "Manga                                2176\n",
       "Amphibian                            2176\n",
       "Reptile                              2175\n",
       "Magazine                             2175\n",
       "NationalFootballLeagueSeason         2170\n",
       "Fish                                 2165\n",
       "SoccerTournament                     2160\n",
       "Bird                                 2157\n",
       "Election                             2155\n",
       "Arachnid                             2152\n",
       "FootballMatch                        2151\n",
       "NCAATeamSeason                       2151\n",
       "Fungus                               2146\n",
       "Album                                2145\n",
       "VideoGame                            2140\n",
       "Single                               2137\n",
       "AcademicJournal                      2135\n",
       "MilitaryConflict                     2128\n",
       "Insect                               2125\n",
       "SoccerClubSeason                     2119\n",
       "ArtistDiscography                    2112\n",
       "Crustacean                           2035\n",
       "SupremeCourtOfTheUnitedStatesCase    2002\n",
       "HorseRace                            1777\n",
       "Convention                           1625\n",
       "Play                                 1490\n",
       "GolfTournament                       1360\n",
       "CultivatedVariety                    1288\n",
       "HollywoodCartoon                     1221\n",
       "Musical                              1027\n",
       "Anime                                1012\n",
       "GrandPrix                             981\n",
       "MusicGenre                            890\n",
       "WrestlingEvent                        878\n",
       "EurovisionSongContestEntry            808\n",
       "TennisTournament                      802\n",
       "FilmFestival                          718\n",
       "Fern                                  694\n",
       "CyclingRace                           648\n",
       "Earthquake                            598\n",
       "MixedMartialArtsEvent                 580\n",
       "Conifer                               519\n",
       "ClassicalMusicComposition             479\n",
       "WomensTennisAssociationTournament     376\n",
       "Moss                                  349\n",
       "MusicFestival                         291\n",
       "GreenAlga                             290\n",
       "AutomobileEngine                      280\n",
       "ComicStrip                            279\n",
       "Grape                                 279\n",
       "SolarEclipse                          272\n",
       "Poem                                  254\n",
       "BaseballSeason                        192\n",
       "Cycad                                 166\n",
       "BiologicalDatabase                    154\n",
       "Name: labels, dtype: int64"
      ]
     },
     "execution_count": 62,
     "metadata": {},
     "output_type": "execute_result"
    }
   ],
   "source": [
    "tr_c7 = df[~df['l1'].isin(['Agent', 'Place'])].loc[:,['text', 'l3']].rename(columns={'l3':'labels'})\n",
    "tr_c7.labels.value_counts()"
   ]
  },
  {
   "cell_type": "code",
   "execution_count": 63,
   "metadata": {},
   "outputs": [],
   "source": [
    "tr_c7.to_csv('../data/training_c7.csv', index=False)"
   ]
  },
  {
   "cell_type": "code",
   "execution_count": null,
   "metadata": {},
   "outputs": [],
   "source": []
  }
 ],
 "metadata": {
  "kernelspec": {
   "display_name": "Python 3",
   "language": "python",
   "name": "python3"
  },
  "language_info": {
   "codemirror_mode": {
    "name": "ipython",
    "version": 3
   },
   "file_extension": ".py",
   "mimetype": "text/x-python",
   "name": "python",
   "nbconvert_exporter": "python",
   "pygments_lexer": "ipython3",
   "version": "3.8.5"
  }
 },
 "nbformat": 4,
 "nbformat_minor": 4
}
