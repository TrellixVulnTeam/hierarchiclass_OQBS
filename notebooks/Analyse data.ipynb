{
 "cells": [
  {
   "cell_type": "code",
   "execution_count": 1,
   "metadata": {},
   "outputs": [],
   "source": [
    "import pandas as pd\n",
    "import math\n",
    "import numpy as np\n",
    "from sklearn.metrics import classification_report\n",
    "import torch.nn.functional as F\n",
    "import torch\n",
    "import os\n",
    "from tqdm import tqdm,trange\n",
    "from torch.optim import Adam\n",
    "from torch.utils.data import TensorDataset, DataLoader, RandomSampler, SequentialSampler\n",
    "from sklearn.model_selection import train_test_split\n",
    "from transformers import (XLNetConfig, XLNetForSequenceClassification, XLNetTokenizer)\n",
    "from tqdm.notebook import tqdm"
   ]
  },
  {
   "cell_type": "code",
   "execution_count": 2,
   "metadata": {},
   "outputs": [],
   "source": [
    "df = pd.read_csv('../data/classification_dataset.csv')"
   ]
  },
  {
   "cell_type": "code",
   "execution_count": 44,
   "metadata": {},
   "outputs": [
    {
     "data": {
      "text/html": [
       "<div>\n",
       "<style scoped>\n",
       "    .dataframe tbody tr th:only-of-type {\n",
       "        vertical-align: middle;\n",
       "    }\n",
       "\n",
       "    .dataframe tbody tr th {\n",
       "        vertical-align: top;\n",
       "    }\n",
       "\n",
       "    .dataframe thead th {\n",
       "        text-align: right;\n",
       "    }\n",
       "</style>\n",
       "<table border=\"1\" class=\"dataframe\">\n",
       "  <thead>\n",
       "    <tr style=\"text-align: right;\">\n",
       "      <th></th>\n",
       "      <th>text</th>\n",
       "      <th>l1</th>\n",
       "      <th>l2</th>\n",
       "      <th>l3</th>\n",
       "    </tr>\n",
       "  </thead>\n",
       "  <tbody>\n",
       "    <tr>\n",
       "      <th>0</th>\n",
       "      <td>Ronald \\\"Ron\\\" D. Boire is an American busines...</td>\n",
       "      <td>Agent</td>\n",
       "      <td>Person</td>\n",
       "      <td>BusinessPerson</td>\n",
       "    </tr>\n",
       "    <tr>\n",
       "      <th>1</th>\n",
       "      <td>Astra 1KR is one of the Astra geostationary sa...</td>\n",
       "      <td>Place</td>\n",
       "      <td>Satellite</td>\n",
       "      <td>ArtificialSatellite</td>\n",
       "    </tr>\n",
       "    <tr>\n",
       "      <th>2</th>\n",
       "      <td>Cycleryon is an extinct genus of decapod crust...</td>\n",
       "      <td>Species</td>\n",
       "      <td>Animal</td>\n",
       "      <td>Crustacean</td>\n",
       "    </tr>\n",
       "    <tr>\n",
       "      <th>3</th>\n",
       "      <td>Angela Maria of the Heart of Jesus, also calle...</td>\n",
       "      <td>Agent</td>\n",
       "      <td>Cleric</td>\n",
       "      <td>Saint</td>\n",
       "    </tr>\n",
       "    <tr>\n",
       "      <th>4</th>\n",
       "      <td>William Garnet \\\"Bing\\\" Coughlin – Canadian Wo...</td>\n",
       "      <td>Agent</td>\n",
       "      <td>Artist</td>\n",
       "      <td>ComicsCreator</td>\n",
       "    </tr>\n",
       "    <tr>\n",
       "      <th>...</th>\n",
       "      <td>...</td>\n",
       "      <td>...</td>\n",
       "      <td>...</td>\n",
       "      <td>...</td>\n",
       "    </tr>\n",
       "    <tr>\n",
       "      <th>342776</th>\n",
       "      <td>The Messenger is a quarterly magazine publishe...</td>\n",
       "      <td>Work</td>\n",
       "      <td>PeriodicalLiterature</td>\n",
       "      <td>Magazine</td>\n",
       "    </tr>\n",
       "    <tr>\n",
       "      <th>342777</th>\n",
       "      <td>Seren \\\"Haf\\\" Gibson (born in Ruthin, Denbighs...</td>\n",
       "      <td>Agent</td>\n",
       "      <td>Actor</td>\n",
       "      <td>AdultActor</td>\n",
       "    </tr>\n",
       "    <tr>\n",
       "      <th>342778</th>\n",
       "      <td>Anne Margrethe Strømsheim (née Bang) (1914 – 6...</td>\n",
       "      <td>Agent</td>\n",
       "      <td>Person</td>\n",
       "      <td>MilitaryPerson</td>\n",
       "    </tr>\n",
       "    <tr>\n",
       "      <th>342779</th>\n",
       "      <td>116 Sirona is a somewhat large and bright-colo...</td>\n",
       "      <td>Place</td>\n",
       "      <td>CelestialBody</td>\n",
       "      <td>Planet</td>\n",
       "    </tr>\n",
       "    <tr>\n",
       "      <th>342780</th>\n",
       "      <td>Michael J. \\\"Mick\\\" Brown (born 11 July 1939 i...</td>\n",
       "      <td>Agent</td>\n",
       "      <td>SportsManager</td>\n",
       "      <td>SoccerManager</td>\n",
       "    </tr>\n",
       "  </tbody>\n",
       "</table>\n",
       "<p>342781 rows × 4 columns</p>\n",
       "</div>"
      ],
      "text/plain": [
       "                                                     text       l1  \\\n",
       "0       Ronald \\\"Ron\\\" D. Boire is an American busines...    Agent   \n",
       "1       Astra 1KR is one of the Astra geostationary sa...    Place   \n",
       "2       Cycleryon is an extinct genus of decapod crust...  Species   \n",
       "3       Angela Maria of the Heart of Jesus, also calle...    Agent   \n",
       "4       William Garnet \\\"Bing\\\" Coughlin – Canadian Wo...    Agent   \n",
       "...                                                   ...      ...   \n",
       "342776  The Messenger is a quarterly magazine publishe...     Work   \n",
       "342777  Seren \\\"Haf\\\" Gibson (born in Ruthin, Denbighs...    Agent   \n",
       "342778  Anne Margrethe Strømsheim (née Bang) (1914 – 6...    Agent   \n",
       "342779  116 Sirona is a somewhat large and bright-colo...    Place   \n",
       "342780  Michael J. \\\"Mick\\\" Brown (born 11 July 1939 i...    Agent   \n",
       "\n",
       "                          l2                   l3  \n",
       "0                     Person       BusinessPerson  \n",
       "1                  Satellite  ArtificialSatellite  \n",
       "2                     Animal           Crustacean  \n",
       "3                     Cleric                Saint  \n",
       "4                     Artist        ComicsCreator  \n",
       "...                      ...                  ...  \n",
       "342776  PeriodicalLiterature             Magazine  \n",
       "342777                 Actor           AdultActor  \n",
       "342778                Person       MilitaryPerson  \n",
       "342779         CelestialBody               Planet  \n",
       "342780         SportsManager        SoccerManager  \n",
       "\n",
       "[342781 rows x 4 columns]"
      ]
     },
     "execution_count": 44,
     "metadata": {},
     "output_type": "execute_result"
    }
   ],
   "source": [
    "df"
   ]
  },
  {
   "cell_type": "code",
   "execution_count": 24,
   "metadata": {},
   "outputs": [
    {
     "data": {
      "text/plain": [
       "Agent             177341\n",
       "Place              65128\n",
       "Species            31149\n",
       "Work               29832\n",
       "Event              27059\n",
       "SportsSeason        8307\n",
       "UnitOfWork          2497\n",
       "TopicalConcept      1115\n",
       "Device               353\n",
       "Name: l1, dtype: int64"
      ]
     },
     "execution_count": 24,
     "metadata": {},
     "output_type": "execute_result"
    }
   ],
   "source": [
    "df.l1.value_counts()"
   ]
  },
  {
   "cell_type": "code",
   "execution_count": 8,
   "metadata": {},
   "outputs": [
    {
     "data": {
      "text/plain": [
       "<AxesSubplot:>"
      ]
     },
     "execution_count": 8,
     "metadata": {},
     "output_type": "execute_result"
    },
    {
     "data": {
      "image/png": "[encoded data removed]",
      "text/plain": [
       "<Figure size 1080x288 with 1 Axes>"
      ]
     },
     "metadata": {
      "needs_background": "light"
     },
     "output_type": "display_data"
    }
   ],
   "source": [
    "df.l1.hist(figsize=(15,4))"
   ]
  },
  {
   "cell_type": "code",
   "execution_count": 43,
   "metadata": {},
   "outputs": [
    {
     "data": {
      "text/plain": [
       "<AxesSubplot:>"
      ]
     },
     "execution_count": 43,
     "metadata": {},
     "output_type": "execute_result"
    },
    {
     "data": {
      "image/png": "[encoded data removed]",
      "text/plain": [
       "<Figure size 1440x360 with 1 Axes>"
      ]
     },
     "metadata": {
      "needs_background": "light"
     },
     "output_type": "display_data"
    }
   ],
   "source": [
    "df[df['l1'] == 'SportsSeason'].l3.hist(figsize=(20,5))"
   ]
  },
  {
   "cell_type": "code",
   "execution_count": 42,
   "metadata": {},
   "outputs": [
    {
     "data": {
      "text/plain": [
       "Series([], Name: l3, dtype: int64)"
      ]
     },
     "execution_count": 42,
     "metadata": {},
     "output_type": "execute_result"
    }
   ],
   "source": [
    "df[df['l1'] == 'AutomobileEngine'].l3.value_counts()"
   ]
  },
  {
   "cell_type": "code",
   "execution_count": 23,
   "metadata": {},
   "outputs": [
    {
     "data": {
      "text/plain": [
       "<AxesSubplot:>"
      ]
     },
     "execution_count": 23,
     "metadata": {},
     "output_type": "execute_result"
    },
    {
     "data": {
      "image/png": "[encoded data removed]",
      "text/plain": [
       "<Figure size 432x288 with 1 Axes>"
      ]
     },
     "metadata": {
      "needs_background": "light"
     },
     "output_type": "display_data"
    }
   ],
   "source": [
    "df[df['l1'] == 'Work'].l3.hist()"
   ]
  },
  {
   "cell_type": "code",
   "execution_count": null,
   "metadata": {},
   "outputs": [],
   "source": []
  }
 ],
 "metadata": {
  "kernelspec": {
   "display_name": "Python 3",
   "language": "python",
   "name": "python3"
  },
  "language_info": {
   "codemirror_mode": {
    "name": "ipython",
    "version": 3
   },
   "file_extension": ".py",
   "mimetype": "text/x-python",
   "name": "python",
   "nbconvert_exporter": "python",
   "pygments_lexer": "ipython3",
   "version": "3.8.5"
  }
 },
 "nbformat": 4,
 "nbformat_minor": 4
}
