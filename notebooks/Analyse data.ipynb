{
 "cells": [
  {
   "cell_type": "code",
   "execution_count": 1,
   "metadata": {},
   "outputs": [],
   "source": [
    "import pandas as pd\n",
    "import math\n",
    "import numpy as np\n",
    "from sklearn.metrics import classification_report\n",
    "import torch.nn.functional as F\n",
    "import torch\n",
    "import os\n",
    "from tqdm import tqdm,trange\n",
    "from torch.optim import Adam\n",
    "from torch.utils.data import TensorDataset, DataLoader, RandomSampler, SequentialSampler\n",
    "from sklearn.model_selection import train_test_split\n",
    "from transformers import (XLNetConfig, XLNetForSequenceClassification, XLNetTokenizer)\n",
    "from tqdm.notebook import tqdm"
   ]
  },
  {
   "cell_type": "code",
   "execution_count": 2,
   "metadata": {},
   "outputs": [],
   "source": [
    "df = pd.read_csv('../data/classification_dataset.csv')"
   ]
  },
  {
   "cell_type": "code",
   "execution_count": 44,
   "metadata": {},
   "outputs": [
    {
     "data": {
      "text/html": [
       "<div>\n",
       "<style scoped>\n",
       "    .dataframe tbody tr th:only-of-type {\n",
       "        vertical-align: middle;\n",
       "    }\n",
       "\n",
       "    .dataframe tbody tr th {\n",
       "        vertical-align: top;\n",
       "    }\n",
       "\n",
       "    .dataframe thead th {\n",
       "        text-align: right;\n",
       "    }\n",
       "</style>\n",
       "<table border=\"1\" class=\"dataframe\">\n",
       "  <thead>\n",
       "    <tr style=\"text-align: right;\">\n",
       "      <th></th>\n",
       "      <th>text</th>\n",
       "      <th>l1</th>\n",
       "      <th>l2</th>\n",
       "      <th>l3</th>\n",
       "    </tr>\n",
       "  </thead>\n",
       "  <tbody>\n",
       "    <tr>\n",
       "      <th>0</th>\n",
       "      <td>Ronald \\\"Ron\\\" D. Boire is an American busines...</td>\n",
       "      <td>Agent</td>\n",
       "      <td>Person</td>\n",
       "      <td>BusinessPerson</td>\n",
       "    </tr>\n",
       "    <tr>\n",
       "      <th>1</th>\n",
       "      <td>Astra 1KR is one of the Astra geostationary sa...</td>\n",
       "      <td>Place</td>\n",
       "      <td>Satellite</td>\n",
       "      <td>ArtificialSatellite</td>\n",
       "    </tr>\n",
       "    <tr>\n",
       "      <th>2</th>\n",
       "      <td>Cycleryon is an extinct genus of decapod crust...</td>\n",
       "      <td>Species</td>\n",
       "      <td>Animal</td>\n",
       "      <td>Crustacean</td>\n",
       "    </tr>\n",
       "    <tr>\n",
       "      <th>3</th>\n",
       "      <td>Angela Maria of the Heart of Jesus, also calle...</td>\n",
       "      <td>Agent</td>\n",
       "      <td>Cleric</td>\n",
       "      <td>Saint</td>\n",
       "    </tr>\n",
       "    <tr>\n",
       "      <th>4</th>\n",
       "      <td>William Garnet \\\"Bing\\\" Coughlin – Canadian Wo...</td>\n",
       "      <td>Agent</td>\n",
       "      <td>Artist</td>\n",
       "      <td>ComicsCreator</td>\n",
       "    </tr>\n",
       "    <tr>\n",
       "      <th>...</th>\n",
       "      <td>...</td>\n",
       "      <td>...</td>\n",
       "      <td>...</td>\n",
       "      <td>...</td>\n",
       "    </tr>\n",
       "    <tr>\n",
       "      <th>342776</th>\n",
       "      <td>The Messenger is a quarterly magazine publishe...</td>\n",
       "      <td>Work</td>\n",
       "      <td>PeriodicalLiterature</td>\n",
       "      <td>Magazine</td>\n",
       "    </tr>\n",
       "    <tr>\n",
       "      <th>342777</th>\n",
       "      <td>Seren \\\"Haf\\\" Gibson (born in Ruthin, Denbighs...</td>\n",
       "      <td>Agent</td>\n",
       "      <td>Actor</td>\n",
       "      <td>AdultActor</td>\n",
       "    </tr>\n",
       "    <tr>\n",
       "      <th>342778</th>\n",
       "      <td>Anne Margrethe Strømsheim (née Bang) (1914 – 6...</td>\n",
       "      <td>Agent</td>\n",
       "      <td>Person</td>\n",
       "      <td>MilitaryPerson</td>\n",
       "    </tr>\n",
       "    <tr>\n",
       "      <th>342779</th>\n",
       "      <td>116 Sirona is a somewhat large and bright-colo...</td>\n",
       "      <td>Place</td>\n",
       "      <td>CelestialBody</td>\n",
       "      <td>Planet</td>\n",
       "    </tr>\n",
       "    <tr>\n",
       "      <th>342780</th>\n",
       "      <td>Michael J. \\\"Mick\\\" Brown (born 11 July 1939 i...</td>\n",
       "      <td>Agent</td>\n",
       "      <td>SportsManager</td>\n",
       "      <td>SoccerManager</td>\n",
       "    </tr>\n",
       "  </tbody>\n",
       "</table>\n",
       "<p>342781 rows × 4 columns</p>\n",
       "</div>"
      ],
      "text/plain": [
       "                                                     text       l1  \\\n",
       "0       Ronald \\\"Ron\\\" D. Boire is an American busines...    Agent   \n",
       "1       Astra 1KR is one of the Astra geostationary sa...    Place   \n",
       "2       Cycleryon is an extinct genus of decapod crust...  Species   \n",
       "3       Angela Maria of the Heart of Jesus, also calle...    Agent   \n",
       "4       William Garnet \\\"Bing\\\" Coughlin – Canadian Wo...    Agent   \n",
       "...                                                   ...      ...   \n",
       "342776  The Messenger is a quarterly magazine publishe...     Work   \n",
       "342777  Seren \\\"Haf\\\" Gibson (born in Ruthin, Denbighs...    Agent   \n",
       "342778  Anne Margrethe Strømsheim (née Bang) (1914 – 6...    Agent   \n",
       "342779  116 Sirona is a somewhat large and bright-colo...    Place   \n",
       "342780  Michael J. \\\"Mick\\\" Brown (born 11 July 1939 i...    Agent   \n",
       "\n",
       "                          l2                   l3  \n",
       "0                     Person       BusinessPerson  \n",
       "1                  Satellite  ArtificialSatellite  \n",
       "2                     Animal           Crustacean  \n",
       "3                     Cleric                Saint  \n",
       "4                     Artist        ComicsCreator  \n",
       "...                      ...                  ...  \n",
       "342776  PeriodicalLiterature             Magazine  \n",
       "342777                 Actor           AdultActor  \n",
       "342778                Person       MilitaryPerson  \n",
       "342779         CelestialBody               Planet  \n",
       "342780         SportsManager        SoccerManager  \n",
       "\n",
       "[342781 rows x 4 columns]"
      ]
     },
     "execution_count": 44,
     "metadata": {},
     "output_type": "execute_result"
    }
   ],
   "source": [
    "df"
   ]
  },
  {
   "cell_type": "code",
   "execution_count": 24,
   "metadata": {},
   "outputs": [
    {
     "data": {
      "text/plain": [
       "Agent             177341\n",
       "Place              65128\n",
       "Species            31149\n",
       "Work               29832\n",
       "Event              27059\n",
       "SportsSeason        8307\n",
       "UnitOfWork          2497\n",
       "TopicalConcept      1115\n",
       "Device               353\n",
       "Name: l1, dtype: int64"
      ]
     },
     "execution_count": 24,
     "metadata": {},
     "output_type": "execute_result"
    }
   ],
   "source": [
    "df.l1.value_counts()"
   ]
  },
  {
   "cell_type": "code",
   "execution_count": 8,
   "metadata": {},
   "outputs": [
    {
     "data": {
      "text/plain": [
       "<AxesSubplot:>"
      ]
     },
     "execution_count": 8,
     "metadata": {},
     "output_type": "execute_result"
    },
    {
     "data": {
      "image/png": "[encoded data removed]",
      "text/plain": [
       "<Figure size 1080x288 with 1 Axes>"
      ]
     },
     "metadata": {
      "needs_background": "light"
     },
     "output_type": "display_data"
    }
   ],
   "source": [
    "df.l1.hist(figsize=(15,4))"
   ]
  },
  {
   "cell_type": "code",
   "execution_count": 47,
   "metadata": {},
   "outputs": [
    {
     "data": {
      "text/plain": [
       "<AxesSubplot:>"
      ]
     },
     "execution_count": 47,
     "metadata": {},
     "output_type": "execute_result"
    },
    {
     "data": {
      "image/png": "[encoded data removed]",
      "text/plain": [
       "<Figure size 1440x360 with 1 Axes>"
      ]
     },
     "metadata": {
      "needs_background": "light"
     },
     "output_type": "display_data"
    }
   ],
   "source": [
    "df[df['l1'] == 'Agent'].l2.hist(figsize=(20,5))"
   ]
  },
  {
   "cell_type": "code",
   "execution_count": 48,
   "metadata": {},
   "outputs": [
    {
     "data": {
      "text/plain": [
       "Athlete                   44163\n",
       "Person                    27892\n",
       "Politician                13514\n",
       "Company                   11777\n",
       "Organisation              10137\n",
       "WinterSportPlayer          8972\n",
       "SportsTeam                 7968\n",
       "Artist                     7091\n",
       "Broadcaster                6549\n",
       "Cleric                     6420\n",
       "EducationalInstitution     6306\n",
       "SportsLeague               3405\n",
       "FictionalCharacter         3062\n",
       "GridironFootballPlayer     2696\n",
       "SportsManager              2695\n",
       "Coach                      2691\n",
       "Group                      2659\n",
       "Actor                      1667\n",
       "RacingDriver               1593\n",
       "Writer                     1562\n",
       "Scientist                   824\n",
       "BritishRoyalty              685\n",
       "MotorcycleRider             633\n",
       "OrganisationMember          553\n",
       "Wrestler                    425\n",
       "Boxer                       403\n",
       "Presenter                   318\n",
       "MusicalArtist               284\n",
       "ComicsCharacter             203\n",
       "VolleyballPlayer            194\n",
       "Name: l2, dtype: int64"
      ]
     },
     "execution_count": 48,
     "metadata": {},
     "output_type": "execute_result"
    }
   ],
   "source": [
    "df[df['l1'] == 'Agent'].l2.value_counts()"
   ]
  },
  {
   "cell_type": "code",
   "execution_count": 94,
   "metadata": {},
   "outputs": [
    {
     "data": {
      "text/plain": [
       "Noble              2693\n",
       "MilitaryPerson     2665\n",
       "OfficeHolder       2641\n",
       "Judge              2606\n",
       "Architect          2579\n",
       "Monarch            2293\n",
       "BeautyQueen        2194\n",
       "Philosopher        1703\n",
       "Model              1543\n",
       "Journalist         1468\n",
       "Economist          1052\n",
       "Religious           909\n",
       "BusinessPerson      716\n",
       "Engineer            707\n",
       "Ambassador          572\n",
       "Astronaut           569\n",
       "Chef                522\n",
       "PlayboyPlaymate     243\n",
       "HorseTrainer        217\n",
       "Name: l3, dtype: int64"
      ]
     },
     "execution_count": 94,
     "metadata": {},
     "output_type": "execute_result"
    }
   ],
   "source": [
    "df[df['l2'] == 'Person'].l3.value_counts()"
   ]
  },
  {
   "cell_type": "code",
   "execution_count": 55,
   "metadata": {},
   "outputs": [
    {
     "data": {
      "text/plain": [
       "19"
      ]
     },
     "execution_count": 55,
     "metadata": {},
     "output_type": "execute_result"
    }
   ],
   "source": [
    "len(df[df['l2'] == 'Person'].l3.unique()) == 1"
   ]
  },
  {
   "cell_type": "code",
   "execution_count": 80,
   "metadata": {},
   "outputs": [
    {
     "name": "stdout",
     "output_type": "stream",
     "text": [
      "TopicalConcept - ['Genre'] - ['MusicGenre']\n",
      "UnitOfWork - ['LegalCase'] - ['SupremeCourtOfTheUnitedStatesCase']\n",
      "Device - ['Engine'] - ['AutomobileEngine']\n"
     ]
    }
   ],
   "source": [
    "for l1_label in df.l1.unique():\n",
    "    if len(df[df['l1'] == l1_label].l3.unique()) == 1:\n",
    "        l2_label = df[df['l1'] == l1_label].l2.unique()\n",
    "        l3_label = df[df['l1'] == l1_label].l3.unique()\n",
    "        print(f'{l1_label} - {l2_label} - {l3_label}')\n"
   ]
  },
  {
   "cell_type": "code",
   "execution_count": 104,
   "metadata": {},
   "outputs": [
    {
     "name": "stdout",
     "output_type": "stream",
     "text": [
      "19: Person: ['Agent']\n",
      "27: Athlete: ['Agent']\n",
      "[1, 1, 1, 1, 1, 1, 1, 1, 1, 1, 1, 1, 1, 1, 1, 1, 1, 1, 1, 1, 1, 1, 1, 1, 1, 1, 1, 1, 1, 1, 1, 1, 2, 2, 2, 2, 2, 2, 2, 2, 2, 2, 2, 2, 2, 3, 3, 3, 3, 3, 3, 4, 4, 4, 4, 5, 5, 5, 5, 5, 5, 6, 6, 7, 8, 8, 8, 8, 19, 27]\n"
     ]
    }
   ],
   "source": [
    "counts = list()\n",
    "\n",
    "for label in df.l2.unique():\n",
    "    size = len(df[df['l2'] == label].l3.unique())\n",
    "    counts.append(size)\n",
    "    l1_label = df[df['l2'] == label].l1.unique()\n",
    "    if size > 8:\n",
    "        print(f'{size}: {label}: {l1_label}')\n",
    "    \n",
    "print(sorted(counts))\n"
   ]
  },
  {
   "cell_type": "code",
   "execution_count": 105,
   "metadata": {},
   "outputs": [
    {
     "name": "stdout",
     "output_type": "stream",
     "text": [
      "30: Agent\n",
      "16: Place\n",
      "[1, 1, 1, 2, 5, 6, 8, 16, 30]\n"
     ]
    }
   ],
   "source": [
    "counts = list()\n",
    "\n",
    "for label in df.l1.unique():\n",
    "    size = len(df[df['l1'] == label].l2.unique())\n",
    "    counts.append(size)\n",
    "    if size > 8:\n",
    "        print(f'{size}: {label}')\n",
    "    \n",
    "print(sorted(counts))\n"
   ]
  },
  {
   "cell_type": "code",
   "execution_count": 58,
   "metadata": {},
   "outputs": [
    {
     "data": {
      "text/plain": [
       "70"
      ]
     },
     "execution_count": 58,
     "metadata": {},
     "output_type": "execute_result"
    }
   ],
   "source": [
    "len(df.l2.unique())"
   ]
  },
  {
   "cell_type": "code",
   "execution_count": 59,
   "metadata": {},
   "outputs": [
    {
     "data": {
      "text/html": [
       "<div>\n",
       "<style scoped>\n",
       "    .dataframe tbody tr th:only-of-type {\n",
       "        vertical-align: middle;\n",
       "    }\n",
       "\n",
       "    .dataframe tbody tr th {\n",
       "        vertical-align: top;\n",
       "    }\n",
       "\n",
       "    .dataframe thead th {\n",
       "        text-align: right;\n",
       "    }\n",
       "</style>\n",
       "<table border=\"1\" class=\"dataframe\">\n",
       "  <thead>\n",
       "    <tr style=\"text-align: right;\">\n",
       "      <th></th>\n",
       "      <th>text</th>\n",
       "      <th>l1</th>\n",
       "      <th>l2</th>\n",
       "      <th>l3</th>\n",
       "    </tr>\n",
       "  </thead>\n",
       "  <tbody>\n",
       "    <tr>\n",
       "      <th>2325</th>\n",
       "      <td>Lívia Rév (born July 5, 1916) is a classical c...</td>\n",
       "      <td>Agent</td>\n",
       "      <td>MusicalArtist</td>\n",
       "      <td>ClassicalMusicArtist</td>\n",
       "    </tr>\n",
       "    <tr>\n",
       "      <th>2397</th>\n",
       "      <td>Alessandro Taverna (born in Portogruaro, Venic...</td>\n",
       "      <td>Agent</td>\n",
       "      <td>MusicalArtist</td>\n",
       "      <td>ClassicalMusicArtist</td>\n",
       "    </tr>\n",
       "    <tr>\n",
       "      <th>4236</th>\n",
       "      <td>Jasna Popovic (born May 10, 1979) is an award-...</td>\n",
       "      <td>Agent</td>\n",
       "      <td>MusicalArtist</td>\n",
       "      <td>ClassicalMusicArtist</td>\n",
       "    </tr>\n",
       "    <tr>\n",
       "      <th>6231</th>\n",
       "      <td>Arthur Moreira Lima (born July 16, 1940 in Rio...</td>\n",
       "      <td>Agent</td>\n",
       "      <td>MusicalArtist</td>\n",
       "      <td>ClassicalMusicArtist</td>\n",
       "    </tr>\n",
       "    <tr>\n",
       "      <th>13083</th>\n",
       "      <td>Tristan Pfaff (born 1985) is a French pianist,...</td>\n",
       "      <td>Agent</td>\n",
       "      <td>MusicalArtist</td>\n",
       "      <td>ClassicalMusicArtist</td>\n",
       "    </tr>\n",
       "    <tr>\n",
       "      <th>...</th>\n",
       "      <td>...</td>\n",
       "      <td>...</td>\n",
       "      <td>...</td>\n",
       "      <td>...</td>\n",
       "    </tr>\n",
       "    <tr>\n",
       "      <th>338471</th>\n",
       "      <td>Konstanze Eickhorst (born 6 May 1961, in Breme...</td>\n",
       "      <td>Agent</td>\n",
       "      <td>MusicalArtist</td>\n",
       "      <td>ClassicalMusicArtist</td>\n",
       "    </tr>\n",
       "    <tr>\n",
       "      <th>338903</th>\n",
       "      <td>Ferhunde Erkin (née Ferhunde Remzi) (June 8, 1...</td>\n",
       "      <td>Agent</td>\n",
       "      <td>MusicalArtist</td>\n",
       "      <td>ClassicalMusicArtist</td>\n",
       "    </tr>\n",
       "    <tr>\n",
       "      <th>339788</th>\n",
       "      <td>Míċeál O'Rourke is an Irish pianist who is bes...</td>\n",
       "      <td>Agent</td>\n",
       "      <td>MusicalArtist</td>\n",
       "      <td>ClassicalMusicArtist</td>\n",
       "    </tr>\n",
       "    <tr>\n",
       "      <th>340092</th>\n",
       "      <td>Paul von Jankó (June 2, 1856 – March 17, 1919)...</td>\n",
       "      <td>Agent</td>\n",
       "      <td>MusicalArtist</td>\n",
       "      <td>ClassicalMusicArtist</td>\n",
       "    </tr>\n",
       "    <tr>\n",
       "      <th>340178</th>\n",
       "      <td>Rudolf Kehrer (10 July 1923 – 29 October 2013;...</td>\n",
       "      <td>Agent</td>\n",
       "      <td>MusicalArtist</td>\n",
       "      <td>ClassicalMusicArtist</td>\n",
       "    </tr>\n",
       "  </tbody>\n",
       "</table>\n",
       "<p>284 rows × 4 columns</p>\n",
       "</div>"
      ],
      "text/plain": [
       "                                                     text     l1  \\\n",
       "2325    Lívia Rév (born July 5, 1916) is a classical c...  Agent   \n",
       "2397    Alessandro Taverna (born in Portogruaro, Venic...  Agent   \n",
       "4236    Jasna Popovic (born May 10, 1979) is an award-...  Agent   \n",
       "6231    Arthur Moreira Lima (born July 16, 1940 in Rio...  Agent   \n",
       "13083   Tristan Pfaff (born 1985) is a French pianist,...  Agent   \n",
       "...                                                   ...    ...   \n",
       "338471  Konstanze Eickhorst (born 6 May 1961, in Breme...  Agent   \n",
       "338903  Ferhunde Erkin (née Ferhunde Remzi) (June 8, 1...  Agent   \n",
       "339788  Míċeál O'Rourke is an Irish pianist who is bes...  Agent   \n",
       "340092  Paul von Jankó (June 2, 1856 – March 17, 1919)...  Agent   \n",
       "340178  Rudolf Kehrer (10 July 1923 – 29 October 2013;...  Agent   \n",
       "\n",
       "                   l2                    l3  \n",
       "2325    MusicalArtist  ClassicalMusicArtist  \n",
       "2397    MusicalArtist  ClassicalMusicArtist  \n",
       "4236    MusicalArtist  ClassicalMusicArtist  \n",
       "6231    MusicalArtist  ClassicalMusicArtist  \n",
       "13083   MusicalArtist  ClassicalMusicArtist  \n",
       "...               ...                   ...  \n",
       "338471  MusicalArtist  ClassicalMusicArtist  \n",
       "338903  MusicalArtist  ClassicalMusicArtist  \n",
       "339788  MusicalArtist  ClassicalMusicArtist  \n",
       "340092  MusicalArtist  ClassicalMusicArtist  \n",
       "340178  MusicalArtist  ClassicalMusicArtist  \n",
       "\n",
       "[284 rows x 4 columns]"
      ]
     },
     "execution_count": 59,
     "metadata": {},
     "output_type": "execute_result"
    }
   ],
   "source": [
    "df[df['l2'] == 'MusicalArtist']"
   ]
  },
  {
   "cell_type": "code",
   "execution_count": 91,
   "metadata": {},
   "outputs": [
    {
     "data": {
      "text/plain": [
       "<AxesSubplot:>"
      ]
     },
     "execution_count": 91,
     "metadata": {},
     "output_type": "execute_result"
    },
    {
     "data": {
      "image/png": "[encoded data removed]",
      "text/plain": [
       "<Figure size 2160x504 with 1 Axes>"
      ]
     },
     "metadata": {
      "needs_background": "light"
     },
     "output_type": "display_data"
    }
   ],
   "source": [
    "df.l3.hist(figsize=(30,7))"
   ]
  },
  {
   "cell_type": "code",
   "execution_count": 92,
   "metadata": {},
   "outputs": [
    {
     "data": {
      "text/plain": [
       "AcademicJournal          2700\n",
       "FootballMatch            2700\n",
       "Planet                   2700\n",
       "Manga                    2700\n",
       "GolfPlayer               2700\n",
       "                         ... \n",
       "Cycad                     204\n",
       "AnimangaCharacter         203\n",
       "BeachVolleyballPlayer     194\n",
       "CanadianFootballTeam      190\n",
       "BiologicalDatabase        187\n",
       "Name: l3, Length: 219, dtype: int64"
      ]
     },
     "execution_count": 92,
     "metadata": {},
     "output_type": "execute_result"
    }
   ],
   "source": [
    "df.l3.value_counts()"
   ]
  },
  {
   "cell_type": "code",
   "execution_count": 90,
   "metadata": {},
   "outputs": [
    {
     "data": {
      "text/plain": [
       "<AxesSubplot:>"
      ]
     },
     "execution_count": 90,
     "metadata": {},
     "output_type": "execute_result"
    },
    {
     "data": {
      "image/png": "[encoded data removed]",
      "text/plain": [
       "<Figure size 2160x504 with 1 Axes>"
      ]
     },
     "metadata": {
      "needs_background": "light"
     },
     "output_type": "display_data"
    }
   ],
   "source": [
    "df[~df.l2.isin(['Athlete', 'Person'])].l3.hist(figsize=(30,7))"
   ]
  },
  {
   "cell_type": "code",
   "execution_count": 96,
   "metadata": {},
   "outputs": [
    {
     "data": {
      "text/plain": [
       "FigureSkater              2698\n",
       "Airline                   2697\n",
       "Bank                      2696\n",
       "AmericanFootballPlayer    2696\n",
       "SoccerManager             2695\n",
       "                          ... \n",
       "IceHockeyLeague            273\n",
       "Brewery                    250\n",
       "AnimangaCharacter          203\n",
       "BeachVolleyballPlayer      194\n",
       "CanadianFootballTeam       190\n",
       "Name: l3, Length: 77, dtype: int64"
      ]
     },
     "execution_count": 96,
     "metadata": {},
     "output_type": "execute_result"
    }
   ],
   "source": [
    "df[df.l1.isin(['Agent']) & ~df.l2.isin(['Athlete', 'Person'])].l3.value_counts()"
   ]
  },
  {
   "cell_type": "code",
   "execution_count": 99,
   "metadata": {},
   "outputs": [
    {
     "data": {
      "text/plain": [
       "array(['ArtificialSatellite', 'Planet', 'Diocese', 'Castle', 'Village',\n",
       "       'Lake', 'Town', 'Airport', 'Mountain', 'ShoppingMall',\n",
       "       'RailwayLine', 'Museum', 'MountainPass', 'Bridge', 'Dam',\n",
       "       'Lighthouse', 'Glacier', 'River', 'Volcano', 'MountainRange',\n",
       "       'Hospital', 'Road', 'RailwayStation', 'Prison', 'Restaurant',\n",
       "       'Stadium', 'HistoricBuilding', 'Theatre', 'Hotel', 'Racecourse',\n",
       "       'RollerCoaster', 'Galaxy', 'CricketGround', 'Cave', 'Canal',\n",
       "       'RoadTunnel', 'GolfCourse'], dtype=object)"
      ]
     },
     "execution_count": 99,
     "metadata": {},
     "output_type": "execute_result"
    }
   ],
   "source": [
    "df[df.l1.isin(['Place'])].l3.unique()"
   ]
  },
  {
   "cell_type": "code",
   "execution_count": 106,
   "metadata": {},
   "outputs": [
    {
     "data": {
      "text/html": [
       "<div>\n",
       "<style scoped>\n",
       "    .dataframe tbody tr th:only-of-type {\n",
       "        vertical-align: middle;\n",
       "    }\n",
       "\n",
       "    .dataframe tbody tr th {\n",
       "        vertical-align: top;\n",
       "    }\n",
       "\n",
       "    .dataframe thead th {\n",
       "        text-align: right;\n",
       "    }\n",
       "</style>\n",
       "<table border=\"1\" class=\"dataframe\">\n",
       "  <thead>\n",
       "    <tr style=\"text-align: right;\">\n",
       "      <th></th>\n",
       "      <th>text</th>\n",
       "      <th>l1</th>\n",
       "      <th>l2</th>\n",
       "      <th>l3</th>\n",
       "    </tr>\n",
       "  </thead>\n",
       "  <tbody>\n",
       "    <tr>\n",
       "      <th>0</th>\n",
       "      <td>Ronald \\\"Ron\\\" D. Boire is an American busines...</td>\n",
       "      <td>Agent</td>\n",
       "      <td>Person</td>\n",
       "      <td>BusinessPerson</td>\n",
       "    </tr>\n",
       "    <tr>\n",
       "      <th>1</th>\n",
       "      <td>Astra 1KR is one of the Astra geostationary sa...</td>\n",
       "      <td>Place</td>\n",
       "      <td>Satellite</td>\n",
       "      <td>ArtificialSatellite</td>\n",
       "    </tr>\n",
       "    <tr>\n",
       "      <th>2</th>\n",
       "      <td>Cycleryon is an extinct genus of decapod crust...</td>\n",
       "      <td>Species</td>\n",
       "      <td>Animal</td>\n",
       "      <td>Crustacean</td>\n",
       "    </tr>\n",
       "    <tr>\n",
       "      <th>3</th>\n",
       "      <td>Angela Maria of the Heart of Jesus, also calle...</td>\n",
       "      <td>Agent</td>\n",
       "      <td>Cleric</td>\n",
       "      <td>Saint</td>\n",
       "    </tr>\n",
       "    <tr>\n",
       "      <th>4</th>\n",
       "      <td>William Garnet \\\"Bing\\\" Coughlin – Canadian Wo...</td>\n",
       "      <td>Agent</td>\n",
       "      <td>Artist</td>\n",
       "      <td>ComicsCreator</td>\n",
       "    </tr>\n",
       "    <tr>\n",
       "      <th>...</th>\n",
       "      <td>...</td>\n",
       "      <td>...</td>\n",
       "      <td>...</td>\n",
       "      <td>...</td>\n",
       "    </tr>\n",
       "    <tr>\n",
       "      <th>342776</th>\n",
       "      <td>The Messenger is a quarterly magazine publishe...</td>\n",
       "      <td>Work</td>\n",
       "      <td>PeriodicalLiterature</td>\n",
       "      <td>Magazine</td>\n",
       "    </tr>\n",
       "    <tr>\n",
       "      <th>342777</th>\n",
       "      <td>Seren \\\"Haf\\\" Gibson (born in Ruthin, Denbighs...</td>\n",
       "      <td>Agent</td>\n",
       "      <td>Actor</td>\n",
       "      <td>AdultActor</td>\n",
       "    </tr>\n",
       "    <tr>\n",
       "      <th>342778</th>\n",
       "      <td>Anne Margrethe Strømsheim (née Bang) (1914 – 6...</td>\n",
       "      <td>Agent</td>\n",
       "      <td>Person</td>\n",
       "      <td>MilitaryPerson</td>\n",
       "    </tr>\n",
       "    <tr>\n",
       "      <th>342779</th>\n",
       "      <td>116 Sirona is a somewhat large and bright-colo...</td>\n",
       "      <td>Place</td>\n",
       "      <td>CelestialBody</td>\n",
       "      <td>Planet</td>\n",
       "    </tr>\n",
       "    <tr>\n",
       "      <th>342780</th>\n",
       "      <td>Michael J. \\\"Mick\\\" Brown (born 11 July 1939 i...</td>\n",
       "      <td>Agent</td>\n",
       "      <td>SportsManager</td>\n",
       "      <td>SoccerManager</td>\n",
       "    </tr>\n",
       "  </tbody>\n",
       "</table>\n",
       "<p>342781 rows × 4 columns</p>\n",
       "</div>"
      ],
      "text/plain": [
       "                                                     text       l1  \\\n",
       "0       Ronald \\\"Ron\\\" D. Boire is an American busines...    Agent   \n",
       "1       Astra 1KR is one of the Astra geostationary sa...    Place   \n",
       "2       Cycleryon is an extinct genus of decapod crust...  Species   \n",
       "3       Angela Maria of the Heart of Jesus, also calle...    Agent   \n",
       "4       William Garnet \\\"Bing\\\" Coughlin – Canadian Wo...    Agent   \n",
       "...                                                   ...      ...   \n",
       "342776  The Messenger is a quarterly magazine publishe...     Work   \n",
       "342777  Seren \\\"Haf\\\" Gibson (born in Ruthin, Denbighs...    Agent   \n",
       "342778  Anne Margrethe Strømsheim (née Bang) (1914 – 6...    Agent   \n",
       "342779  116 Sirona is a somewhat large and bright-colo...    Place   \n",
       "342780  Michael J. \\\"Mick\\\" Brown (born 11 July 1939 i...    Agent   \n",
       "\n",
       "                          l2                   l3  \n",
       "0                     Person       BusinessPerson  \n",
       "1                  Satellite  ArtificialSatellite  \n",
       "2                     Animal           Crustacean  \n",
       "3                     Cleric                Saint  \n",
       "4                     Artist        ComicsCreator  \n",
       "...                      ...                  ...  \n",
       "342776  PeriodicalLiterature             Magazine  \n",
       "342777                 Actor           AdultActor  \n",
       "342778                Person       MilitaryPerson  \n",
       "342779         CelestialBody               Planet  \n",
       "342780         SportsManager        SoccerManager  \n",
       "\n",
       "[342781 rows x 4 columns]"
      ]
     },
     "execution_count": 106,
     "metadata": {},
     "output_type": "execute_result"
    }
   ],
   "source": [
    "# check for repeated data\n",
    "\n",
    "len(df) == len(df.text.unique())"
   ]
  },
  {
   "cell_type": "code",
   "execution_count": 109,
   "metadata": {},
   "outputs": [
    {
     "data": {
      "text/plain": [
       "9"
      ]
     },
     "execution_count": 109,
     "metadata": {},
     "output_type": "execute_result"
    }
   ],
   "source": [
    "len(df.l1.unique())"
   ]
  },
  {
   "cell_type": "code",
   "execution_count": 110,
   "metadata": {},
   "outputs": [
    {
     "data": {
      "text/plain": [
       "70"
      ]
     },
     "execution_count": 110,
     "metadata": {},
     "output_type": "execute_result"
    }
   ],
   "source": [
    "len(df.l2.unique())"
   ]
  },
  {
   "cell_type": "code",
   "execution_count": 111,
   "metadata": {},
   "outputs": [
    {
     "data": {
      "text/plain": [
       "219"
      ]
     },
     "execution_count": 111,
     "metadata": {},
     "output_type": "execute_result"
    }
   ],
   "source": [
    "len(df.l3.unique())"
   ]
  },
  {
   "cell_type": "code",
   "execution_count": null,
   "metadata": {},
   "outputs": [],
   "source": []
  }
 ],
 "metadata": {
  "kernelspec": {
   "display_name": "Python 3",
   "language": "python",
   "name": "python3"
  },
  "language_info": {
   "codemirror_mode": {
    "name": "ipython",
    "version": 3
   },
   "file_extension": ".py",
   "mimetype": "text/x-python",
   "name": "python",
   "nbconvert_exporter": "python",
   "pygments_lexer": "ipython3",
   "version": "3.8.5"
  }
 },
 "nbformat": 4,
 "nbformat_minor": 4
}
