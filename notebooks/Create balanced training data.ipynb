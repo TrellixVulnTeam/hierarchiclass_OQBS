{
 "cells": [
  {
   "cell_type": "code",
   "execution_count": 1,
   "metadata": {},
   "outputs": [],
   "source": [
    "import pandas as pd\n",
    "import math\n",
    "import numpy as np\n",
    "from sklearn.metrics import classification_report\n",
    "import torch.nn.functional as F\n",
    "import torch\n",
    "import os\n",
    "from tqdm import tqdm,trange\n",
    "from torch.optim import Adam\n",
    "from torch.utils.data import TensorDataset, DataLoader, RandomSampler, SequentialSampler\n",
    "from sklearn.model_selection import train_test_split\n",
    "from transformers import (XLNetConfig, XLNetForSequenceClassification, XLNetTokenizer)\n",
    "from tqdm.notebook import tqdm"
   ]
  },
  {
   "cell_type": "code",
   "execution_count": 4,
   "metadata": {},
   "outputs": [
    {
     "data": {
      "text/plain": [
       "Cyclist                  2210\n",
       "Airline                  2195\n",
       "MemberOfParliament       2190\n",
       "Newspaper                2187\n",
       "Road                     2184\n",
       "                         ... \n",
       "HorseTrainer              167\n",
       "Cycad                     166\n",
       "BiologicalDatabase        154\n",
       "BeachVolleyballPlayer     153\n",
       "CanadianFootballTeam      152\n",
       "Name: l3, Length: 219, dtype: int64"
      ]
     },
     "execution_count": 4,
     "metadata": {},
     "output_type": "execute_result"
    }
   ],
   "source": [
    "df = pd.read_csv('../data/training_all.csv')\n",
    "df.l3.value_counts()"
   ]
  },
  {
   "cell_type": "code",
   "execution_count": 10,
   "metadata": {},
   "outputs": [
    {
     "data": {
      "text/html": [
       "<div>\n",
       "<style scoped>\n",
       "    .dataframe tbody tr th:only-of-type {\n",
       "        vertical-align: middle;\n",
       "    }\n",
       "\n",
       "    .dataframe tbody tr th {\n",
       "        vertical-align: top;\n",
       "    }\n",
       "\n",
       "    .dataframe thead th {\n",
       "        text-align: right;\n",
       "    }\n",
       "</style>\n",
       "<table border=\"1\" class=\"dataframe\">\n",
       "  <thead>\n",
       "    <tr style=\"text-align: right;\">\n",
       "      <th></th>\n",
       "      <th>text</th>\n",
       "      <th>l1</th>\n",
       "      <th>l2</th>\n",
       "      <th>l3</th>\n",
       "    </tr>\n",
       "  </thead>\n",
       "  <tbody>\n",
       "    <tr>\n",
       "      <th>111098</th>\n",
       "      <td>Ratchet &amp; Clank: Into the Nexus (known as Ratc...</td>\n",
       "      <td>Work</td>\n",
       "      <td>Software</td>\n",
       "      <td>VideoGame</td>\n",
       "    </tr>\n",
       "    <tr>\n",
       "      <th>171514</th>\n",
       "      <td>Rig Racer 2 is a video game developed by Data ...</td>\n",
       "      <td>Work</td>\n",
       "      <td>Software</td>\n",
       "      <td>VideoGame</td>\n",
       "    </tr>\n",
       "    <tr>\n",
       "      <th>130490</th>\n",
       "      <td>Avengers in Galactic Storm (アベンジャーズ・イン・ギャラクティッ...</td>\n",
       "      <td>Work</td>\n",
       "      <td>Software</td>\n",
       "      <td>VideoGame</td>\n",
       "    </tr>\n",
       "    <tr>\n",
       "      <th>219501</th>\n",
       "      <td>Shin Megami Tensei IV (Japanese: 真・女神転生IV, lit...</td>\n",
       "      <td>Work</td>\n",
       "      <td>Software</td>\n",
       "      <td>VideoGame</td>\n",
       "    </tr>\n",
       "    <tr>\n",
       "      <th>200896</th>\n",
       "      <td>Pokémon Black Version and Pokémon White Versio...</td>\n",
       "      <td>Work</td>\n",
       "      <td>Software</td>\n",
       "      <td>VideoGame</td>\n",
       "    </tr>\n",
       "    <tr>\n",
       "      <th>...</th>\n",
       "      <td>...</td>\n",
       "      <td>...</td>\n",
       "      <td>...</td>\n",
       "      <td>...</td>\n",
       "    </tr>\n",
       "    <tr>\n",
       "      <th>158956</th>\n",
       "      <td>Debbie White (born 23 April 1978 in Balclutha,...</td>\n",
       "      <td>Agent</td>\n",
       "      <td>Athlete</td>\n",
       "      <td>NetballPlayer</td>\n",
       "    </tr>\n",
       "    <tr>\n",
       "      <th>77754</th>\n",
       "      <td>Elaine Lamour Davis (born 21 September 1976) i...</td>\n",
       "      <td>Agent</td>\n",
       "      <td>Athlete</td>\n",
       "      <td>NetballPlayer</td>\n",
       "    </tr>\n",
       "    <tr>\n",
       "      <th>111046</th>\n",
       "      <td>Joanne \\\"Jo\\\" Harten (born 21 March 1989) is a...</td>\n",
       "      <td>Agent</td>\n",
       "      <td>Athlete</td>\n",
       "      <td>NetballPlayer</td>\n",
       "    </tr>\n",
       "    <tr>\n",
       "      <th>49357</th>\n",
       "      <td>(For other people named Margaret Foster, see M...</td>\n",
       "      <td>Agent</td>\n",
       "      <td>Athlete</td>\n",
       "      <td>NetballPlayer</td>\n",
       "    </tr>\n",
       "    <tr>\n",
       "      <th>123443</th>\n",
       "      <td>Joline Henry (born 29 September 1982 in Whanga...</td>\n",
       "      <td>Agent</td>\n",
       "      <td>Athlete</td>\n",
       "      <td>NetballPlayer</td>\n",
       "    </tr>\n",
       "  </tbody>\n",
       "</table>\n",
       "<p>97332 rows × 4 columns</p>\n",
       "</div>"
      ],
      "text/plain": [
       "                                                     text     l1        l2  \\\n",
       "111098  Ratchet & Clank: Into the Nexus (known as Ratc...   Work  Software   \n",
       "171514  Rig Racer 2 is a video game developed by Data ...   Work  Software   \n",
       "130490  Avengers in Galactic Storm (アベンジャーズ・イン・ギャラクティッ...   Work  Software   \n",
       "219501  Shin Megami Tensei IV (Japanese: 真・女神転生IV, lit...   Work  Software   \n",
       "200896  Pokémon Black Version and Pokémon White Versio...   Work  Software   \n",
       "...                                                   ...    ...       ...   \n",
       "158956  Debbie White (born 23 April 1978 in Balclutha,...  Agent   Athlete   \n",
       "77754   Elaine Lamour Davis (born 21 September 1976) i...  Agent   Athlete   \n",
       "111046  Joanne \\\"Jo\\\" Harten (born 21 March 1989) is a...  Agent   Athlete   \n",
       "49357   (For other people named Margaret Foster, see M...  Agent   Athlete   \n",
       "123443  Joline Henry (born 29 September 1982 in Whanga...  Agent   Athlete   \n",
       "\n",
       "                   l3  \n",
       "111098      VideoGame  \n",
       "171514      VideoGame  \n",
       "130490      VideoGame  \n",
       "219501      VideoGame  \n",
       "200896      VideoGame  \n",
       "...               ...  \n",
       "158956  NetballPlayer  \n",
       "77754   NetballPlayer  \n",
       "111046  NetballPlayer  \n",
       "49357   NetballPlayer  \n",
       "123443  NetballPlayer  \n",
       "\n",
       "[97332 rows x 4 columns]"
      ]
     },
     "execution_count": 10,
     "metadata": {},
     "output_type": "execute_result"
    }
   ],
   "source": [
    "samples = list()\n",
    "\n",
    "for label in df.l3.unique():\n",
    "    sample_size = 500\n",
    "    label_df = df[df['l3'] == label]\n",
    "    if len(label_df) < sample_size:\n",
    "        sample_size = len(label_df)\n",
    "    samples.append(label_df.sample(sample_size))\n",
    "balanced_df = pd.concat(samples)\n",
    "balanced_df"
   ]
  },
  {
   "cell_type": "code",
   "execution_count": 13,
   "metadata": {},
   "outputs": [],
   "source": [
    "balanced_df.to_csv('../data/training_balanced.csv')"
   ]
  },
  {
   "cell_type": "code",
   "execution_count": 15,
   "metadata": {},
   "outputs": [
    {
     "data": {
      "text/plain": [
       "TennisTournament         500\n",
       "Lighthouse               500\n",
       "MilitaryUnit             500\n",
       "SoapCharacter            500\n",
       "BroadcastNetwork         500\n",
       "                        ... \n",
       "HorseTrainer             167\n",
       "Cycad                    166\n",
       "BiologicalDatabase       154\n",
       "BeachVolleyballPlayer    153\n",
       "CanadianFootballTeam     152\n",
       "Name: l3, Length: 219, dtype: int64"
      ]
     },
     "execution_count": 15,
     "metadata": {},
     "output_type": "execute_result"
    }
   ],
   "source": [
    "balanced_df.l3.value_counts()"
   ]
  },
  {
   "cell_type": "code",
   "execution_count": null,
   "metadata": {},
   "outputs": [],
   "source": []
  }
 ],
 "metadata": {
  "kernelspec": {
   "display_name": "Python 3",
   "language": "python",
   "name": "python3"
  },
  "language_info": {
   "codemirror_mode": {
    "name": "ipython",
    "version": 3
   },
   "file_extension": ".py",
   "mimetype": "text/x-python",
   "name": "python",
   "nbconvert_exporter": "python",
   "pygments_lexer": "ipython3",
   "version": "3.8.5"
  }
 },
 "nbformat": 4,
 "nbformat_minor": 4
}
